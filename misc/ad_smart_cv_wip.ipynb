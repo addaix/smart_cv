{
 "cells": [
  {
   "cell_type": "code",
   "execution_count": null,
   "metadata": {},
   "outputs": [],
   "source": []
  },
  {
   "cell_type": "code",
   "execution_count": null,
   "metadata": {},
   "outputs": [],
   "source": []
  },
  {
   "cell_type": "code",
   "execution_count": null,
   "metadata": {},
   "outputs": [],
   "source": []
  },
  {
   "cell_type": "markdown",
   "metadata": {},
   "source": [
    "# Scrap"
   ]
  },
  {
   "cell_type": "code",
   "execution_count": 4,
   "metadata": {},
   "outputs": [],
   "source": [
    "from importlib.resources import files\n",
    "from dol import Pipe\n",
    "import json\n",
    "\n",
    "p = files('smart_cv')\n",
    "pp = p / 'data' / 'cvs_info' / 'example.json'\n",
    "d = json.loads(pp.read_text(encoding='latin-1'))"
   ]
  },
  {
   "cell_type": "code",
   "execution_count": 5,
   "metadata": {},
   "outputs": [
    {
     "data": {
      "text/plain": [
       "PosixPath('/Users/thorwhalen/.pyenv/versions/3.10.13/envs/p10/lib/python3.10/site-packages/pandas')"
      ]
     },
     "execution_count": 5,
     "metadata": {},
     "output_type": "execute_result"
    }
   ],
   "source": [
    "files('pandas')"
   ]
  },
  {
   "cell_type": "code",
   "execution_count": 2,
   "metadata": {},
   "outputs": [],
   "source": [
    "from dol import Files\n",
    "\n",
    "from smart_cv.util import cvs_dirpath, cvs_info_dirpath\n",
    "\n",
    "\n",
    "cvs = Files(cvs_dirpath)\n",
    "cvs_info = Files(cvs_info_dirpath)\n",
    "\n",
    "\n"
   ]
  },
  {
   "cell_type": "code",
   "execution_count": 5,
   "metadata": {},
   "outputs": [
    {
     "data": {
      "text/plain": [
       "['example.json', 'Thor_Whalen_CV.json']"
      ]
     },
     "execution_count": 5,
     "metadata": {},
     "output_type": "execute_result"
    }
   ],
   "source": [
    "list(cvs_info)"
   ]
  },
  {
   "cell_type": "code",
   "execution_count": 17,
   "metadata": {},
   "outputs": [
    {
     "name": "stdout",
     "output_type": "stream",
     "text": [
      "type(d)=<class 'bytes'>\n"
     ]
    },
    {
     "data": {
      "text/plain": [
       "b'{\"\\\\u00e9tudes\": \"Education of the candidate:\\\\n- ISEN Ecole d\\\\u2019Ing\\\\u00e9nieur, Master in Big Data, Cloud Computing, Software Dev., 2020-2022\\\\n- ISEN Ecole d\\\\u2019Ing\\\\u00e9nieur, Licence in Sciences Informatiques & Electronique, 2017-2020\\\\n- Lyc\\\\u00e9e Jean Moulin, Baccalaur\\\\u00e9at Scientifique \\\\u2013 Mention Bien, 2014-2017\", \"disponibilit\\\\u00e9\": \"disponibilit\\\\u00e9 : To be completed\", \"langues\": \"Languages spoken by the candidate: \\\\n- English (C1 level)\\\\n- Italian (Intermediate level)\\\\n- French (Native)\\\\n- Hindi (Beginner)\", \"mobilit\\\\u00e9\": \"mobilit\\\\u00e9 : To be completed\", \"projets_perso\": \"Reconnaissance Pomme & Poire\\\\nEntrainement mod\\\\u00e8le d\\\\u2019IA pour reconnaissance visuelle de vari\\\\u00e9t\\\\u00e9s de fruits pour ARECO - ARFITEC\\\\nJARVIS \\\\u2013Datadog implementation\", \"JobTitle\": \"Job title: Ing\\\\u00e9nieur Backend Junior Engineer\", \"FullName\": \"Name Surname: Guillaume Bernard\", \"xp\": \"Answer: 1 an\", \"certifications\": \"Certifications of the candidate:\\\\n- Cambridge Assessment English Certificate in Advanced English (C1)\\\\n- Ceinture noire en Karat\\\\u00e9 Wado Ryu\", \"competences\": \"Skills of the candidate: Java, Python, PostgreSQL, Docker, GCP, Git, Datadog, Bash, HTML, CSS, JavaScript, Spring, Flask, Terraform, C JSON, VSCode, Jupyter.\", \"experiences\": \"Professional experiences of the candidate:\\\\n- JavaAqualand, Parc Aquatique\\\\n  Maitre-Nageur, Surveillant de baignade\\\\n  2020, 3 months\\\\n\\\\n- Thales DIS, Apprentissage\\\\n  Site Reliability Engineer\\\\n  JARVIS \\\\u2013 Incident management service\\\\n  2022, 1 year\"}'"
      ]
     },
     "execution_count": 17,
     "metadata": {},
     "output_type": "execute_result"
    }
   ],
   "source": [
    "d = cvs_info['example.json']\n",
    "print(f\"{type(d)=}\")\n",
    "d"
   ]
  },
  {
   "cell_type": "code",
   "execution_count": 15,
   "metadata": {},
   "outputs": [
    {
     "data": {
      "text/plain": [
       "dict"
      ]
     },
     "execution_count": 15,
     "metadata": {},
     "output_type": "execute_result"
    }
   ],
   "source": [
    "import json\n",
    "\n",
    "d = json.loads(cvs_info['example.json'])\n",
    "type(d)"
   ]
  },
  {
   "cell_type": "code",
   "execution_count": 12,
   "metadata": {},
   "outputs": [
    {
     "data": {
      "text/plain": [
       "['example.json', 'Thor_Whalen_CV.json']"
      ]
     },
     "execution_count": 12,
     "metadata": {},
     "output_type": "execute_result"
    }
   ],
   "source": [
    "from dol import wrap_kvs, add_ipython_key_completions\n",
    "\n",
    "s = add_ipython_key_completions(wrap_kvs(cvs_info, obj_of_data=json.loads))\n",
    "list(s)"
   ]
  },
  {
   "cell_type": "code",
   "execution_count": 18,
   "metadata": {},
   "outputs": [
    {
     "data": {
      "text/plain": [
       "dict"
      ]
     },
     "execution_count": 18,
     "metadata": {},
     "output_type": "execute_result"
    }
   ],
   "source": [
    "d = s['example.json']\n",
    "type(d)"
   ]
  },
  {
   "cell_type": "markdown",
   "metadata": {},
   "source": [
    "```python\n",
    "t = wrap_kvs(instance, obj_of_data=json.loads)\n",
    "t = wrap_kvs(obj_of_data=json.loads)(instance)\n",
    "T = wrap_kvs(Klass, obj_of_data=json.loads)\n",
    "T = wrap_kvs(obj_of_data=json.loads)(T)\n",
    "```"
   ]
  },
  {
   "cell_type": "code",
   "execution_count": 20,
   "metadata": {},
   "outputs": [
    {
     "data": {
      "text/plain": [
       "{'études': 'Education of the candidate:\\n- ISEN Ecole d’Ingénieur, Master in Big Data, Cloud Computing, Software Dev., 2020-2022\\n- ISEN Ecole d’Ingénieur, Licence in Sciences Informatiques & Electronique, 2017-2020\\n- Lycée Jean Moulin, Baccalauréat Scientifique – Mention Bien, 2014-2017',\n",
       " 'disponibilité': 'disponibilité : To be completed',\n",
       " 'langues': 'Languages spoken by the candidate: \\n- English (C1 level)\\n- Italian (Intermediate level)\\n- French (Native)\\n- Hindi (Beginner)',\n",
       " 'mobilité': 'mobilité : To be completed',\n",
       " 'projets_perso': 'Reconnaissance Pomme & Poire\\nEntrainement modèle d’IA pour reconnaissance visuelle de variétés de fruits pour ARECO - ARFITEC\\nJARVIS –Datadog implementation',\n",
       " 'JobTitle': 'Job title: Ingénieur Backend Junior Engineer',\n",
       " 'FullName': 'Name Surname: Guillaume Bernard',\n",
       " 'xp': 'Answer: 1 an',\n",
       " 'certifications': 'Certifications of the candidate:\\n- Cambridge Assessment English Certificate in Advanced English (C1)\\n- Ceinture noire en Karaté Wado Ryu',\n",
       " 'competences': 'Skills of the candidate: Java, Python, PostgreSQL, Docker, GCP, Git, Datadog, Bash, HTML, CSS, JavaScript, Spring, Flask, Terraform, C JSON, VSCode, Jupyter.',\n",
       " 'experiences': 'Professional experiences of the candidate:\\n- JavaAqualand, Parc Aquatique\\n  Maitre-Nageur, Surveillant de baignade\\n  2020, 3 months\\n\\n- Thales DIS, Apprentissage\\n  Site Reliability Engineer\\n  JARVIS – Incident management service\\n  2022, 1 year'}"
      ]
     },
     "execution_count": 20,
     "metadata": {},
     "output_type": "execute_result"
    }
   ],
   "source": [
    "@add_ipython_key_completions\n",
    "@wrap_kvs(obj_of_data=json.loads)\n",
    "class CvsInfoStore(Files):\n",
    "    \"\"\"Get cv info dicts from folder\"\"\"\n",
    "\n",
    "s = CvsInfoStore(cvs_info_dirpath)\n",
    "s['example.json']"
   ]
  },
  {
   "cell_type": "code",
   "execution_count": null,
   "metadata": {},
   "outputs": [],
   "source": []
  },
  {
   "cell_type": "code",
   "execution_count": 4,
   "metadata": {},
   "outputs": [
    {
     "data": {
      "text/plain": [
       "['Guillaume.pdf',\n",
       " 'CV_Adil_Mektoub.pdf',\n",
       " 'Nappee-Thomas.pdf',\n",
       " 'Thor_Whalen_CV.pdf']"
      ]
     },
     "execution_count": 4,
     "metadata": {},
     "output_type": "execute_result"
    }
   ],
   "source": [
    "list(cvs)"
   ]
  },
  {
   "cell_type": "code",
   "execution_count": null,
   "metadata": {},
   "outputs": [],
   "source": [
    "\n"
   ]
  },
  {
   "cell_type": "code",
   "execution_count": 1,
   "metadata": {},
   "outputs": [
    {
     "data": {
      "text/plain": [
       "['example.json', 'Thor_Whalen_CV.json', 'Guillaume.json']"
      ]
     },
     "execution_count": 1,
     "metadata": {},
     "output_type": "execute_result"
    }
   ],
   "source": [
    "from smart_cv import CvsInfoStore\n",
    "\n",
    "s = CvsInfoStore()\n",
    "list(s)"
   ]
  },
  {
   "cell_type": "code",
   "execution_count": 41,
   "metadata": {},
   "outputs": [
    {
     "data": {
      "text/plain": [
       "{'Name': 'Thor Whalen'}"
      ]
     },
     "execution_count": 41,
     "metadata": {},
     "output_type": "execute_result"
    }
   ],
   "source": [
    "s['Thor_Whalen_CV.json']"
   ]
  },
  {
   "cell_type": "code",
   "execution_count": 42,
   "metadata": {},
   "outputs": [
    {
     "data": {
      "text/plain": [
       "['Guillaume.pdf',\n",
       " 'CV_Adil_Mektoub.pdf',\n",
       " 'Nappee-Thomas.pdf',\n",
       " 'Thor_Whalen_CV.pdf']"
      ]
     },
     "execution_count": 42,
     "metadata": {},
     "output_type": "execute_result"
    }
   ],
   "source": [
    "cvs = Files(cvs_dirpath)\n",
    "list(cvs)"
   ]
  },
  {
   "cell_type": "code",
   "execution_count": 43,
   "metadata": {},
   "outputs": [
    {
     "data": {
      "text/plain": [
       "306446"
      ]
     },
     "execution_count": 43,
     "metadata": {},
     "output_type": "execute_result"
    }
   ],
   "source": [
    "b = cvs['Thor_Whalen_CV.pdf']\n",
    "len(b)"
   ]
  },
  {
   "cell_type": "code",
   "execution_count": 45,
   "metadata": {},
   "outputs": [
    {
     "data": {
      "text/plain": [
       "['Guillaume', 'CV_Adil_Mektoub', 'Nappee-Thomas', 'Thor_Whalen_CV']"
      ]
     },
     "execution_count": 45,
     "metadata": {},
     "output_type": "execute_result"
    }
   ],
   "source": [
    "from pdfdol import PdfFilesReader\n",
    "\n",
    "s = PdfFilesReader(cvs_dirpath)\n",
    "list(s)"
   ]
  },
  {
   "cell_type": "code",
   "execution_count": 47,
   "metadata": {},
   "outputs": [
    {
     "data": {
      "text/plain": [
       "['PostgreSQLThe CAP\\nAnalyse en temps réel d’un match de tennis avec IA\\nPython, Docker, GCP\\nuillaume Bernard\\nIngénieur Backend Junior Engineer motivé ,\\nA la recherche d’un poste en CDI dès aujourd’hui\\nINTRODUCTION INFORMATION\\nEDUCATIONPROJET\\nLANGUAGES\\nSKILLS\\nGit\\nJavaPython Markdown\\n Datadog\\nDockerBash\\nAnglais\\nNiveau C1\\nItalien\\nIntermédiaireFrancais\\nNatifISEN Ecole d’Ingénieur\\nMaster\\nBig Data, Cloud Computing, Software Dev.\\n2020\\n2022\\nISEN Ecole d’Ingénieur\\nLicence\\nSciences Informatiques & Electronique\\n2017\\n2020\\nLycée Jean Moulin\\nBaccalauréat Scientifique – Mention Bien\\n2014\\n2017Jeune  adulte  dynamique , intéressé  par la Data  au sens  large  du \\nData  Mining  aux Statistiques  en passant  par le Machine  \\nLearning .\\nDiscipliné  et responsable , chargé  de la supervision  de \\nl’association  Engineering  de l’école .\\nIngénieur  junior  de 24 ans en quête  d’approfondissement  de \\nconnaissances .+33 6 45 49 61 85\\nguillaume.bernard31415@gmail.com\\nlinkedin.com/in/gbernard314\\ngithub.com/GBernard314\\nEXPERIENCE PROFESSIONNELLE\\nBig Beautiful  Chess\\nJeu d’échec pour 2 joueurs en ligne sur le navigateur\\nJava, Spring, HTML, CSS, JavaScript\\nShazamIA\\nDétection de note de musique utilisant de l’IA\\nJavaAqualand, Parc Aquatique\\nMaitre -Nageur\\nSurveillant de baignade\\n2020\\n3 moThales DIS, Apprentissage\\nSite Reliability  Engineer\\nJARVIS –Incident management service\\n2022\\n1 an\\nCERTIFICATIONS\\nPermis de conduire\\nVoiture (B) & Moto (A2)\\nCambridge Assessment English\\nCertificate in Advanced English (C1)\\nArts Martiaux\\nCeinture noire en Karaté Wado  Ryu\\nLons le Saunier, France\\nIBM\\nCloud Essentials V3kaggle.com/guillaumebernard314\\nJupyter\\nAWSPandas\\nThales DIS, Stage\\nSite Reliability  Engineer\\nJARVIS –Datadog implementation\\n2021\\n4 mo\\nSwagger\\nBeewey Consulting, Junior\\nBackend Engineer\\nData migration, cloud dev, microservices, API\\n2023\\n3 mo\\nC JSON\\n Flask\\nTerraform\\nVSCode\\nReconnaissance Pomme & Poire\\nEntrainement modèle d’IA pour reconnaissance \\nvisuelle de variétés de fruits  pour ARECO - ARFITEC\\nPython, Jupyter\\n2022\\n2 mo\\n2021\\n6 mo\\n2019\\n1 w2020\\n2 mo\\nHindi\\nDébutant\\nGCP\\n GitLab\\nLinux\\n Go\\n']"
      ]
     },
     "execution_count": 47,
     "metadata": {},
     "output_type": "execute_result"
    }
   ],
   "source": [
    "s['Guillaume']"
   ]
  },
  {
   "cell_type": "code",
   "execution_count": 2,
   "metadata": {},
   "outputs": [
    {
     "data": {
      "text/plain": [
       "['example.json', 'Thor_Whalen_CV.json', 'Guillaume.json']"
      ]
     },
     "execution_count": 2,
     "metadata": {},
     "output_type": "execute_result"
    }
   ],
   "source": [
    "from smart_cv import CvsInfoStore\n",
    "\n",
    "s = CvsInfoStore()\n",
    "list(s)"
   ]
  },
  {
   "cell_type": "code",
   "execution_count": 3,
   "metadata": {},
   "outputs": [
    {
     "data": {
      "text/plain": [
       "['Guillaume', 'CV_Adil_Mektoub', 'Nappee-Thomas', 'Thor_Whalen_CV']"
      ]
     },
     "execution_count": 3,
     "metadata": {},
     "output_type": "execute_result"
    }
   ],
   "source": [
    "from smart_cv import CvsFilesReader\n",
    "\n",
    "s2 = CvsFilesReader()\n",
    "list(s2)"
   ]
  },
  {
   "cell_type": "code",
   "execution_count": 5,
   "metadata": {},
   "outputs": [],
   "source": [
    "cv = s2['Thor_Whalen_CV']"
   ]
  },
  {
   "cell_type": "code",
   "execution_count": 14,
   "metadata": {},
   "outputs": [],
   "source": [
    "tt =  \"\\n-------------------\\n\".join(cv)"
   ]
  },
  {
   "cell_type": "code",
   "execution_count": 15,
   "metadata": {},
   "outputs": [
    {
     "name": "stdout",
     "output_type": "stream",
     "text": [
      " CURRICULUM VITAE  Thor Whalen  CURRENT POSITION: Director of Machine Learning DEGREE: Mathematics Ph.D. & Computer Science Masters.  Life: Born in the U.S., raised in France (mostly), Italy and Germany. US citizen. Work: Consultant & Analyst: Data Science, Mathematics, Statistical Modeling, Optimization, Computer Science Natural Languages: English, French (bilingual), Italian (working knowledge), German (conversational) Computing Languages: Python Expert. Historical: C, Matlab, R, Java, VBA. Prehistorical: Basic, Pascal, Lisp Email: thor.c.whalen@gmail.com   Phone: +1-929-422-1134  WORK      I have worked primarily as an independent machine learning consultant and trainer since year 2000. My work required a cross-functional approach to problem solving in a variety of sectors. It usually started with formalizing what the C-levels wanted, defining and measuring objectives, developing models, and finally working with existing dev teams to get the solutions integrated.       I co-founded OtoSense, a sound recognition company. We sold it to Analog Devices in 2018 and I have been working with them since then, first as a Director of Machine Learning, focused on open-source tools to facilitate collaboration for the development of end-to-end frameworks and platforms for signal ML.  Analog Devices (Semiconductors) 2018-present Director of Machine Learning (Analog Devices bought OtoSense) - Managing R&D in IoT data machine learning and platforms - Develop tools to accelerate end-to-end ML POC development OtoSense (Sound Recognition) 2016-2018 CTO and co-founder of startup - Data Science for sound recognition AI systems - Managed backend and frontend projects for sound recognition tools TagCommander (Tag Management System)  2014-2016 Senior Data Scientist - Sales Trajectory Analysis  - Multi-channel Attribution Expedia (Hotel Booking) 2011-2014 - Search Engine Marketing Optimization - Supply and Demand granularization, alignment, and pricing - Semantic Analysis and Consumer Behavior      From 2001-2011 I worked as an independent consultant. Below is a list of companies I worked for, and a short work description. The time periods of the projects—neither contiguous nor separate—will be omitted for readability.   Sanoma (Media) - Examined online marketing process and strategies, integration of data science teams - Presented algorithms to improve search marketing Easyvoyage (Fare comparator) - Airfare forecasting - Data Analysis Dotdotdot (Mobile Reader App) - Natural language processing - Document fingerprinting First Affiliation (Internet Marketing)   - Designed and developed automatic targeting and campaign optimization system for affiliation and direct mail marketing  - Time series analysis and forecasting of various marketing variables - Search engine marketing: Forecasting, risk management and bid optimization Scentric (Data Management) - Research and development in data management and information retrieval. - Developed general duplicate detection system -- wrote and filed patent. - Automatic document classification \n",
      "-------------------\n",
      "iViVity                  (Storage Management  and Networking)                   - Improved existing methods for RAID systems and CRC calculations - Wrote patent (US patent #6,823,425) on novel erasure codes for RAID systems - Analyzed hash functions’ effectiveness and (circuit design) optimality - Conducted workshops on diverse mathematical techniques KM Consulting (Knowledge Management) - Conducted workshops on data mining, forecasting, artificial intelligence, expertise systemization and knowledge extraction. - Worked on expressing knowledge management problems in mathematical form Metron (Scientific Consulting) - Developed theory and software tool for distributed inference in Bayesian networks  - Researched and tested Monte Carlo methods for multiple target tracking IKON (now Ricoh)                   (Office Solutions)                                                       - Modeling incentive analysis and alignment - Wrote software tool for compensation plan analysis  Nursing Home Quality (QIS experts) - Developed an approach to assess precision and optimize risk and cost during QIS (quality indicator score) facility quality assessment. Developed simulations.  Other miscellaneous projects include Online poker betting patterns Identification information of mouse movements and keystroke patterns Auction dynamics Betting (number combination) choices of national lottery Social network structure of blogs Emergence & spread of new words and expression in the blogosphere Music information retrieval Addiction patterns and dynamics    DEGREES / EDUCATION Ph.D. in Mathematics                           Emory University 2003 M.S. in Computer Science Emory University 2003 Licence de Mathématiques (M.S. in Math) Université de Nice Sophia Antipolis, Nice, France 1996 D.E.U.G. A MPM (B.S. in Math/Physics) Université de Nice Sophia Antipolis, Nice, France 1994 Graduate Studies Technische Universität Berlin, Germany 1997-1998 Classical and Jazz musical studies Conservatoire National de Région de Nice, France 1985-1995  TEACHING EXPERIENCE Taught in several Universities (namely, Illinois State University, Emory University, Johns Hopkins Center for Talented Youth) across the U.S.A & various workshops in various subjects relevant to the client. Subjects include:  Marketing mathematics Mathematics for Computer Science Exploiting uncertainty Probability and Statistics Advanced data analysis Optimizing in complex settings Theory of Computing Data Science in Python Data representation and indexation  PATENTS & ACADEMIC ARTICLES  Below is a non-exhaustive list of publications. 1. Syntactic system for sound recognition, w/ Christian, US Patent #US20180268844A1 2. Sound-recognition system based on a sound language and associated annotations, w/ Christian, US Patent #US20180254054A1 3. System and method for implementing advanced RAID using a set of unique matrices as Coefficients, w/ Gosh, Jain, US Patent #6,823,425 (assignee: iVivity, Inc.) 4. Intelligent General Duplicate Management System w/ Kurande. US Patent 2007/0050423 (assignee: Scentric, Inc) 5. Measuring Discontinuity in Binary Longitudinal Data, w/ Miriam Boeri: Sociological methods & research. 43(2) (2014) 6. On H-immersions, w/ Ferrara, Tansey, Gould: Graph Theory  57(3)  (2008) 7. Subdivision Extendibility, w/ Gould: Graphs Combin.  23(2)  (2007) 8. Distance between two k-sets and path-system extendibility, w/ Gould: Ars Combinatoria 79 (2006 9. On H-linked Graphs: Unifying connectivity, w/ Ferrara, Tansey, Gould: Graphs Combin.  22(2) (2006) 10. Edge-disjoint Hamiltonian cycles in bipartite graphs, w/ Ferrara, Tansey, Gould, Discrete Mathematics 309(12) (2009)  11. Pan-k-linkage in dense graphs, w/ Gould, Powell, Wagner: Discrete Mathematics 309(10) (2009) 12. Irregularity Strength of Digraphs,\tw/ Ferrara, Gilbert, Jacobson: Discrete Mathematics 309(19) (2009) \n"
     ]
    }
   ],
   "source": [
    "print(tt)"
   ]
  },
  {
   "cell_type": "code",
   "execution_count": 16,
   "metadata": {},
   "outputs": [],
   "source": [
    "from dol import wrap_kvs\n",
    "\n",
    "s3 = wrap_kvs(s2, obj_of_data=lambda x: \"\\n-------------------\\n\".join(x))"
   ]
  },
  {
   "cell_type": "code",
   "execution_count": 18,
   "metadata": {},
   "outputs": [
    {
     "name": "stdout",
     "output_type": "stream",
     "text": [
      " CURRICULUM VITAE  Thor Whalen  CURRENT POSITION: Director of Machine Learning DEGREE: Mathematics Ph.D. & Computer Science Masters.  Life: Born in the U.S., raised in France (mostly), Italy and Germany. US citizen. Work: Consultant & Analyst: Data Science, Mathematics, Statistical Modeling, Optimization, Computer Science Natural Languages: English, French (bilingual), Italian (working knowledge), German (conversational) Computing Languages: Python Expert. Historical: C, Matlab, R, Java, VBA. Prehistorical: Basic, Pascal, Lisp Email: thor.c.whalen@gmail.com   Phone: +1-929-422-1134  WORK      I have worked primarily as an independent machine learning consultant and trainer since year 2000. My work required a cross-functional approach to problem solving in a variety of sectors. It usually started with formalizing what the C-levels wanted, defining and measuring objectives, developing models, and finally working with existing dev teams to get the solutions integrated.       I co-founded OtoSense, a sound recognition company. We sold it to Analog Devices in 2018 and I have been working with them since then, first as a Director of Machine Learning, focused on open-source tools to facilitate collaboration for the development of end-to-end frameworks and platforms for signal ML.  Analog Devices (Semiconductors) 2018-present Director of Machine Learning (Analog Devices bought OtoSense) - Managing R&D in IoT data machine learning and platforms - Develop tools to accelerate end-to-end ML POC development OtoSense (Sound Recognition) 2016-2018 CTO and co-founder of startup - Data Science for sound recognition AI systems - Managed backend and frontend projects for sound recognition tools TagCommander (Tag Management System)  2014-2016 Senior Data Scientist - Sales Trajectory Analysis  - Multi-channel Attribution Expedia (Hotel Booking) 2011-2014 - Search Engine Marketing Optimization - Supply and Demand granularization, alignment, and pricing - Semantic Analysis and Consumer Behavior      From 2001-2011 I worked as an independent consultant. Below is a list of companies I worked for, and a short work description. The time periods of the projects—neither contiguous nor separate—will be omitted for readability.   Sanoma (Media) - Examined online marketing process and strategies, integration of data science teams - Presented algorithms to improve search marketing Easyvoyage (Fare comparator) - Airfare forecasting - Data Analysis Dotdotdot (Mobile Reader App) - Natural language processing - Document fingerprinting First Affiliation (Internet Marketing)   - Designed and developed automatic targeting and campaign optimization system for affiliation and direct mail marketing  - Time series analysis and forecasting of various marketing variables - Search engine marketing: Forecasting, risk management and bid optimization Scentric (Data Management) - Research and development in data management and information retrieval. - Developed general duplicate detection system -- wrote and filed patent. - Automatic document classification \n",
      "-------------------\n",
      "iViVity                  (Storage Management  and Networking)                   - Improved existing methods for RAID systems and CRC calculations - Wrote patent (US patent #6,823,425) on novel erasure codes for RAID systems - Analyzed hash functions’ effectiveness and (circuit design) optimality - Conducted workshops on diverse mathematical techniques KM Consulting (Knowledge Management) - Conducted workshops on data mining, forecasting, artificial intelligence, expertise systemization and knowledge extraction. - Worked on expressing knowledge management problems in mathematical form Metron (Scientific Consulting) - Developed theory and software tool for distributed inference in Bayesian networks  - Researched and tested Monte Carlo methods for multiple target tracking IKON (now Ricoh)                   (Office Solutions)                                                       - Modeling incentive analysis and alignment - Wrote software tool for compensation plan analysis  Nursing Home Quality (QIS experts) - Developed an approach to assess precision and optimize risk and cost during QIS (quality indicator score) facility quality assessment. Developed simulations.  Other miscellaneous projects include Online poker betting patterns Identification information of mouse movements and keystroke patterns Auction dynamics Betting (number combination) choices of national lottery Social network structure of blogs Emergence & spread of new words and expression in the blogosphere Music information retrieval Addiction patterns and dynamics    DEGREES / EDUCATION Ph.D. in Mathematics                           Emory University 2003 M.S. in Computer Science Emory University 2003 Licence de Mathématiques (M.S. in Math) Université de Nice Sophia Antipolis, Nice, France 1996 D.E.U.G. A MPM (B.S. in Math/Physics) Université de Nice Sophia Antipolis, Nice, France 1994 Graduate Studies Technische Universität Berlin, Germany 1997-1998 Classical and Jazz musical studies Conservatoire National de Région de Nice, France 1985-1995  TEACHING EXPERIENCE Taught in several Universities (namely, Illinois State University, Emory University, Johns Hopkins Center for Talented Youth) across the U.S.A & various workshops in various subjects relevant to the client. Subjects include:  Marketing mathematics Mathematics for Computer Science Exploiting uncertainty Probability and Statistics Advanced data analysis Optimizing in complex settings Theory of Computing Data Science in Python Data representation and indexation  PATENTS & ACADEMIC ARTICLES  Below is a non-exhaustive list of publications. 1. Syntactic system for sound recognition, w/ Christian, US Patent #US20180268844A1 2. Sound-recognition system based on a sound language and associated annotations, w/ Christian, US Patent #US20180254054A1 3. System and method for implementing advanced RAID using a set of unique matrices as Coefficients, w/ Gosh, Jain, US Patent #6,823,425 (assignee: iVivity, Inc.) 4. Intelligent General Duplicate Management System w/ Kurande. US Patent 2007/0050423 (assignee: Scentric, Inc) 5. Measuring Discontinuity in Binary Longitudinal Data, w/ Miriam Boeri: Sociological methods & research. 43(2) (2014) 6. On H-immersions, w/ Ferrara, Tansey, Gould: Graph Theory  57(3)  (2008) 7. Subdivision Extendibility, w/ Gould: Graphs Combin.  23(2)  (2007) 8. Distance between two k-sets and path-system extendibility, w/ Gould: Ars Combinatoria 79 (2006 9. On H-linked Graphs: Unifying connectivity, w/ Ferrara, Tansey, Gould: Graphs Combin.  22(2) (2006) 10. Edge-disjoint Hamiltonian cycles in bipartite graphs, w/ Ferrara, Tansey, Gould, Discrete Mathematics 309(12) (2009)  11. Pan-k-linkage in dense graphs, w/ Gould, Powell, Wagner: Discrete Mathematics 309(10) (2009) 12. Irregularity Strength of Digraphs,\tw/ Ferrara, Gilbert, Jacobson: Discrete Mathematics 309(19) (2009) \n"
     ]
    }
   ],
   "source": [
    "print(s3['Thor_Whalen_CV'])"
   ]
  }
 ],
 "metadata": {
  "kernelspec": {
   "display_name": "p10",
   "language": "python",
   "name": "python3"
  },
  "language_info": {
   "codemirror_mode": {
    "name": "ipython",
    "version": 3
   },
   "file_extension": ".py",
   "mimetype": "text/x-python",
   "name": "python",
   "nbconvert_exporter": "python",
   "pygments_lexer": "ipython3",
   "version": "3.9.18"
  }
 },
 "nbformat": 4,
 "nbformat_minor": 2
}
