{
 "cells": [
  {
   "cell_type": "code",
   "execution_count": null,
   "metadata": {},
   "outputs": [],
   "source": []
  },
  {
   "cell_type": "code",
   "execution_count": null,
   "metadata": {},
   "outputs": [],
   "source": []
  },
  {
   "cell_type": "code",
   "execution_count": null,
   "metadata": {},
   "outputs": [],
   "source": []
  },
  {
   "cell_type": "markdown",
   "metadata": {},
   "source": [
    "# Scrap"
   ]
  },
  {
   "cell_type": "code",
   "execution_count": 4,
   "metadata": {},
   "outputs": [],
   "source": [
    "from importlib.resources import files\n",
    "from dol import Pipe\n",
    "import json\n",
    "\n",
    "p = files('smart_cv')\n",
    "pp = p / 'data' / 'cvs_info' / 'example.json'\n",
    "d = json.loads(pp.read_text(encoding='latin-1'))"
   ]
  },
  {
   "cell_type": "code",
   "execution_count": 5,
   "metadata": {},
   "outputs": [
    {
     "data": {
      "text/plain": [
       "PosixPath('/Users/thorwhalen/.pyenv/versions/3.10.13/envs/p10/lib/python3.10/site-packages/pandas')"
      ]
     },
     "execution_count": 5,
     "metadata": {},
     "output_type": "execute_result"
    }
   ],
   "source": [
    "files('pandas')"
   ]
  },
  {
   "cell_type": "code",
   "execution_count": 2,
   "metadata": {},
   "outputs": [],
   "source": [
    "from dol import Files\n",
    "\n",
    "from smart_cv.util import cvs_dirpath, cvs_info_dirpath\n",
    "\n",
    "\n",
    "cvs = Files(cvs_dirpath)\n",
    "cvs_info = Files(cvs_info_dirpath)\n",
    "\n",
    "\n"
   ]
  },
  {
   "cell_type": "code",
   "execution_count": 5,
   "metadata": {},
   "outputs": [
    {
     "data": {
      "text/plain": [
       "['example.json', 'Thor_Whalen_CV.json']"
      ]
     },
     "execution_count": 5,
     "metadata": {},
     "output_type": "execute_result"
    }
   ],
   "source": [
    "list(cvs_info)"
   ]
  },
  {
   "cell_type": "code",
   "execution_count": 17,
   "metadata": {},
   "outputs": [
    {
     "name": "stdout",
     "output_type": "stream",
     "text": [
      "type(d)=<class 'bytes'>\n"
     ]
    },
    {
     "data": {
      "text/plain": [
       "b'{\"\\\\u00e9tudes\": \"Education of the candidate:\\\\n- ISEN Ecole d\\\\u2019Ing\\\\u00e9nieur, Master in Big Data, Cloud Computing, Software Dev., 2020-2022\\\\n- ISEN Ecole d\\\\u2019Ing\\\\u00e9nieur, Licence in Sciences Informatiques & Electronique, 2017-2020\\\\n- Lyc\\\\u00e9e Jean Moulin, Baccalaur\\\\u00e9at Scientifique \\\\u2013 Mention Bien, 2014-2017\", \"disponibilit\\\\u00e9\": \"disponibilit\\\\u00e9 : To be completed\", \"langues\": \"Languages spoken by the candidate: \\\\n- English (C1 level)\\\\n- Italian (Intermediate level)\\\\n- French (Native)\\\\n- Hindi (Beginner)\", \"mobilit\\\\u00e9\": \"mobilit\\\\u00e9 : To be completed\", \"projets_perso\": \"Reconnaissance Pomme & Poire\\\\nEntrainement mod\\\\u00e8le d\\\\u2019IA pour reconnaissance visuelle de vari\\\\u00e9t\\\\u00e9s de fruits pour ARECO - ARFITEC\\\\nJARVIS \\\\u2013Datadog implementation\", \"JobTitle\": \"Job title: Ing\\\\u00e9nieur Backend Junior Engineer\", \"FullName\": \"Name Surname: Guillaume Bernard\", \"xp\": \"Answer: 1 an\", \"certifications\": \"Certifications of the candidate:\\\\n- Cambridge Assessment English Certificate in Advanced English (C1)\\\\n- Ceinture noire en Karat\\\\u00e9 Wado Ryu\", \"competences\": \"Skills of the candidate: Java, Python, PostgreSQL, Docker, GCP, Git, Datadog, Bash, HTML, CSS, JavaScript, Spring, Flask, Terraform, C JSON, VSCode, Jupyter.\", \"experiences\": \"Professional experiences of the candidate:\\\\n- JavaAqualand, Parc Aquatique\\\\n  Maitre-Nageur, Surveillant de baignade\\\\n  2020, 3 months\\\\n\\\\n- Thales DIS, Apprentissage\\\\n  Site Reliability Engineer\\\\n  JARVIS \\\\u2013 Incident management service\\\\n  2022, 1 year\"}'"
      ]
     },
     "execution_count": 17,
     "metadata": {},
     "output_type": "execute_result"
    }
   ],
   "source": [
    "d = cvs_info['example.json']\n",
    "print(f\"{type(d)=}\")\n",
    "d"
   ]
  },
  {
   "cell_type": "code",
   "execution_count": 15,
   "metadata": {},
   "outputs": [
    {
     "data": {
      "text/plain": [
       "dict"
      ]
     },
     "execution_count": 15,
     "metadata": {},
     "output_type": "execute_result"
    }
   ],
   "source": [
    "import json\n",
    "\n",
    "d = json.loads(cvs_info['example.json'])\n",
    "type(d)"
   ]
  },
  {
   "cell_type": "code",
   "execution_count": 12,
   "metadata": {},
   "outputs": [
    {
     "data": {
      "text/plain": [
       "['example.json', 'Thor_Whalen_CV.json']"
      ]
     },
     "execution_count": 12,
     "metadata": {},
     "output_type": "execute_result"
    }
   ],
   "source": [
    "from dol import wrap_kvs, add_ipython_key_completions\n",
    "\n",
    "s = add_ipython_key_completions(wrap_kvs(cvs_info, obj_of_data=json.loads))\n",
    "list(s)"
   ]
  },
  {
   "cell_type": "code",
   "execution_count": 18,
   "metadata": {},
   "outputs": [
    {
     "data": {
      "text/plain": [
       "dict"
      ]
     },
     "execution_count": 18,
     "metadata": {},
     "output_type": "execute_result"
    }
   ],
   "source": [
    "d = s['example.json']\n",
    "type(d)"
   ]
  },
  {
   "cell_type": "markdown",
   "metadata": {},
   "source": [
    "```python\n",
    "t = wrap_kvs(instance, obj_of_data=json.loads)\n",
    "t = wrap_kvs(obj_of_data=json.loads)(instance)\n",
    "T = wrap_kvs(Klass, obj_of_data=json.loads)\n",
    "T = wrap_kvs(obj_of_data=json.loads)(T)\n",
    "```"
   ]
  },
  {
   "cell_type": "code",
   "execution_count": 20,
   "metadata": {},
   "outputs": [
    {
     "data": {
      "text/plain": [
       "{'études': 'Education of the candidate:\\n- ISEN Ecole d’Ingénieur, Master in Big Data, Cloud Computing, Software Dev., 2020-2022\\n- ISEN Ecole d’Ingénieur, Licence in Sciences Informatiques & Electronique, 2017-2020\\n- Lycée Jean Moulin, Baccalauréat Scientifique – Mention Bien, 2014-2017',\n",
       " 'disponibilité': 'disponibilité : To be completed',\n",
       " 'langues': 'Languages spoken by the candidate: \\n- English (C1 level)\\n- Italian (Intermediate level)\\n- French (Native)\\n- Hindi (Beginner)',\n",
       " 'mobilité': 'mobilité : To be completed',\n",
       " 'projets_perso': 'Reconnaissance Pomme & Poire\\nEntrainement modèle d’IA pour reconnaissance visuelle de variétés de fruits pour ARECO - ARFITEC\\nJARVIS –Datadog implementation',\n",
       " 'JobTitle': 'Job title: Ingénieur Backend Junior Engineer',\n",
       " 'FullName': 'Name Surname: Guillaume Bernard',\n",
       " 'xp': 'Answer: 1 an',\n",
       " 'certifications': 'Certifications of the candidate:\\n- Cambridge Assessment English Certificate in Advanced English (C1)\\n- Ceinture noire en Karaté Wado Ryu',\n",
       " 'competences': 'Skills of the candidate: Java, Python, PostgreSQL, Docker, GCP, Git, Datadog, Bash, HTML, CSS, JavaScript, Spring, Flask, Terraform, C JSON, VSCode, Jupyter.',\n",
       " 'experiences': 'Professional experiences of the candidate:\\n- JavaAqualand, Parc Aquatique\\n  Maitre-Nageur, Surveillant de baignade\\n  2020, 3 months\\n\\n- Thales DIS, Apprentissage\\n  Site Reliability Engineer\\n  JARVIS – Incident management service\\n  2022, 1 year'}"
      ]
     },
     "execution_count": 20,
     "metadata": {},
     "output_type": "execute_result"
    }
   ],
   "source": [
    "@add_ipython_key_completions\n",
    "@wrap_kvs(obj_of_data=json.loads)\n",
    "class CvsInfoStore(Files):\n",
    "    \"\"\"Get cv info dicts from folder\"\"\"\n",
    "\n",
    "s = CvsInfoStore(cvs_info_dirpath)\n",
    "s['example.json']"
   ]
  },
  {
   "cell_type": "code",
   "execution_count": null,
   "metadata": {},
   "outputs": [],
   "source": []
  },
  {
   "cell_type": "code",
   "execution_count": 4,
   "metadata": {},
   "outputs": [
    {
     "data": {
      "text/plain": [
       "['Guillaume.pdf',\n",
       " 'CV_Adil_Mektoub.pdf',\n",
       " 'Nappee-Thomas.pdf',\n",
       " 'Thor_Whalen_CV.pdf']"
      ]
     },
     "execution_count": 4,
     "metadata": {},
     "output_type": "execute_result"
    }
   ],
   "source": [
    "list(cvs)"
   ]
  },
  {
   "cell_type": "code",
   "execution_count": null,
   "metadata": {},
   "outputs": [],
   "source": [
    "\n"
   ]
  },
  {
   "cell_type": "code",
   "execution_count": 40,
   "metadata": {},
   "outputs": [
    {
     "data": {
      "text/plain": [
       "['example.json', 'Thor_Whalen_CV.json']"
      ]
     },
     "execution_count": 40,
     "metadata": {},
     "output_type": "execute_result"
    }
   ],
   "source": [
    "from smart_cv import CvsInfoStore\n",
    "\n",
    "s = CvsInfoStore()\n",
    "list(s)"
   ]
  },
  {
   "cell_type": "code",
   "execution_count": 41,
   "metadata": {},
   "outputs": [
    {
     "data": {
      "text/plain": [
       "{'Name': 'Thor Whalen'}"
      ]
     },
     "execution_count": 41,
     "metadata": {},
     "output_type": "execute_result"
    }
   ],
   "source": [
    "s['Thor_Whalen_CV.json']"
   ]
  },
  {
   "cell_type": "code",
   "execution_count": 42,
   "metadata": {},
   "outputs": [
    {
     "data": {
      "text/plain": [
       "['Guillaume.pdf',\n",
       " 'CV_Adil_Mektoub.pdf',\n",
       " 'Nappee-Thomas.pdf',\n",
       " 'Thor_Whalen_CV.pdf']"
      ]
     },
     "execution_count": 42,
     "metadata": {},
     "output_type": "execute_result"
    }
   ],
   "source": [
    "cvs = Files(cvs_dirpath)\n",
    "list(cvs)"
   ]
  },
  {
   "cell_type": "code",
   "execution_count": 43,
   "metadata": {},
   "outputs": [
    {
     "data": {
      "text/plain": [
       "306446"
      ]
     },
     "execution_count": 43,
     "metadata": {},
     "output_type": "execute_result"
    }
   ],
   "source": [
    "b = cvs['Thor_Whalen_CV.pdf']\n",
    "len(b)"
   ]
  },
  {
   "cell_type": "code",
   "execution_count": 45,
   "metadata": {},
   "outputs": [
    {
     "data": {
      "text/plain": [
       "['Guillaume', 'CV_Adil_Mektoub', 'Nappee-Thomas', 'Thor_Whalen_CV']"
      ]
     },
     "execution_count": 45,
     "metadata": {},
     "output_type": "execute_result"
    }
   ],
   "source": [
    "from pdfdol import PdfFilesReader\n",
    "\n",
    "s = PdfFilesReader(cvs_dirpath)\n",
    "list(s)"
   ]
  },
  {
   "cell_type": "code",
   "execution_count": 47,
   "metadata": {},
   "outputs": [
    {
     "data": {
      "text/plain": [
       "['PostgreSQLThe CAP\\nAnalyse en temps réel d’un match de tennis avec IA\\nPython, Docker, GCP\\nuillaume Bernard\\nIngénieur Backend Junior Engineer motivé ,\\nA la recherche d’un poste en CDI dès aujourd’hui\\nINTRODUCTION INFORMATION\\nEDUCATIONPROJET\\nLANGUAGES\\nSKILLS\\nGit\\nJavaPython Markdown\\n Datadog\\nDockerBash\\nAnglais\\nNiveau C1\\nItalien\\nIntermédiaireFrancais\\nNatifISEN Ecole d’Ingénieur\\nMaster\\nBig Data, Cloud Computing, Software Dev.\\n2020\\n2022\\nISEN Ecole d’Ingénieur\\nLicence\\nSciences Informatiques & Electronique\\n2017\\n2020\\nLycée Jean Moulin\\nBaccalauréat Scientifique – Mention Bien\\n2014\\n2017Jeune  adulte  dynamique , intéressé  par la Data  au sens  large  du \\nData  Mining  aux Statistiques  en passant  par le Machine  \\nLearning .\\nDiscipliné  et responsable , chargé  de la supervision  de \\nl’association  Engineering  de l’école .\\nIngénieur  junior  de 24 ans en quête  d’approfondissement  de \\nconnaissances .+33 6 45 49 61 85\\nguillaume.bernard31415@gmail.com\\nlinkedin.com/in/gbernard314\\ngithub.com/GBernard314\\nEXPERIENCE PROFESSIONNELLE\\nBig Beautiful  Chess\\nJeu d’échec pour 2 joueurs en ligne sur le navigateur\\nJava, Spring, HTML, CSS, JavaScript\\nShazamIA\\nDétection de note de musique utilisant de l’IA\\nJavaAqualand, Parc Aquatique\\nMaitre -Nageur\\nSurveillant de baignade\\n2020\\n3 moThales DIS, Apprentissage\\nSite Reliability  Engineer\\nJARVIS –Incident management service\\n2022\\n1 an\\nCERTIFICATIONS\\nPermis de conduire\\nVoiture (B) & Moto (A2)\\nCambridge Assessment English\\nCertificate in Advanced English (C1)\\nArts Martiaux\\nCeinture noire en Karaté Wado  Ryu\\nLons le Saunier, France\\nIBM\\nCloud Essentials V3kaggle.com/guillaumebernard314\\nJupyter\\nAWSPandas\\nThales DIS, Stage\\nSite Reliability  Engineer\\nJARVIS –Datadog implementation\\n2021\\n4 mo\\nSwagger\\nBeewey Consulting, Junior\\nBackend Engineer\\nData migration, cloud dev, microservices, API\\n2023\\n3 mo\\nC JSON\\n Flask\\nTerraform\\nVSCode\\nReconnaissance Pomme & Poire\\nEntrainement modèle d’IA pour reconnaissance \\nvisuelle de variétés de fruits  pour ARECO - ARFITEC\\nPython, Jupyter\\n2022\\n2 mo\\n2021\\n6 mo\\n2019\\n1 w2020\\n2 mo\\nHindi\\nDébutant\\nGCP\\n GitLab\\nLinux\\n Go\\n']"
      ]
     },
     "execution_count": 47,
     "metadata": {},
     "output_type": "execute_result"
    }
   ],
   "source": [
    "s['Guillaume']"
   ]
  },
  {
   "cell_type": "code",
   "execution_count": null,
   "metadata": {},
   "outputs": [],
   "source": []
  }
 ],
 "metadata": {
  "kernelspec": {
   "display_name": "p10",
   "language": "python",
   "name": "python3"
  },
  "language_info": {
   "codemirror_mode": {
    "name": "ipython",
    "version": 3
   },
   "file_extension": ".py",
   "mimetype": "text/x-python",
   "name": "python",
   "nbconvert_exporter": "python",
   "pygments_lexer": "ipython3",
   "version": "3.10.13"
  }
 },
 "nbformat": 4,
 "nbformat_minor": 2
}
