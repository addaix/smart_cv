{
 "cells": [
  {
   "cell_type": "code",
   "execution_count": 23,
   "metadata": {},
   "outputs": [],
   "source": [
    "keywords_text = \"python, java, c++, C , ruby, perl, php, javascript\""
   ]
  },
  {
   "cell_type": "code",
   "execution_count": 24,
   "metadata": {},
   "outputs": [],
   "source": [
    "cv = \"I can write programs in python or java. I like coding in C\""
   ]
  },
  {
   "cell_type": "code",
   "execution_count": 25,
   "metadata": {},
   "outputs": [
    {
     "name": "stdout",
     "output_type": "stream",
     "text": [
      "['python', 'java']\n"
     ]
    }
   ],
   "source": [
    "def match_kewords(keywords_text, text):\n",
    "    keywords = keywords_text.split(\", \")\n",
    "    kw_list = []\n",
    "    for kw in keywords:\n",
    "        if kw in text:\n",
    "            kw_list.append(kw)\n",
    "    return kw_list\n",
    "\n",
    "print(match_kewords(keywords_text, cv))"
   ]
  },
  {
   "cell_type": "code",
   "execution_count": 31,
   "metadata": {},
   "outputs": [],
   "source": [
    "import sys\n",
    "sys.path.append(\"/Users/alexis/Documents/GitHub/smart_cv/\")\n",
    "from file_dialoger import File_Dialoger\n",
    "def llm_keywords(keywords_text, text):\n",
    "    \n",
    "    keywords = keywords_text.split(\", \")\n",
    "    "
   ]
  }
 ],
 "metadata": {
  "kernelspec": {
   "display_name": "rag",
   "language": "python",
   "name": "python3"
  },
  "language_info": {
   "codemirror_mode": {
    "name": "ipython",
    "version": 3
   },
   "file_extension": ".py",
   "mimetype": "text/x-python",
   "name": "python",
   "nbconvert_exporter": "python",
   "pygments_lexer": "ipython3",
   "version": "3.9.18"
  }
 },
 "nbformat": 4,
 "nbformat_minor": 2
}
