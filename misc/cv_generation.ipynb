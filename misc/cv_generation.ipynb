{
 "cells": [
  {
   "cell_type": "code",
   "execution_count": null,
   "id": "b194c01d",
   "metadata": {},
   "outputs": [],
   "source": []
  },
  {
   "cell_type": "code",
   "execution_count": null,
   "id": "95c98dc3",
   "metadata": {},
   "outputs": [],
   "source": []
  },
  {
   "cell_type": "code",
   "execution_count": null,
   "id": "fae60f84",
   "metadata": {},
   "outputs": [],
   "source": []
  },
  {
   "cell_type": "code",
   "execution_count": null,
   "id": "7cc1d7b2",
   "metadata": {},
   "outputs": [],
   "source": []
  },
  {
   "cell_type": "markdown",
   "id": "f47a2e37",
   "metadata": {},
   "source": [
    "# Scrap - CV Gen with reportlab"
   ]
  },
  {
   "cell_type": "code",
   "execution_count": 2,
   "id": "69c83aac",
   "metadata": {},
   "outputs": [],
   "source": [
    "# Define file path again after reset\n",
    "\n",
    "import os \n",
    "\n",
    "pdf_path = os.path.expanduser(\"~/Downloads/example_resume.pdf\")\n"
   ]
  },
  {
   "cell_type": "code",
   "execution_count": null,
   "id": "e9ad8197",
   "metadata": {},
   "outputs": [
    {
     "data": {
      "text/plain": [
       "'/Users/thorwhalen/Downloads/example_resume.pdf'"
      ]
     },
     "execution_count": 12,
     "metadata": {},
     "output_type": "execute_result"
    }
   ],
   "source": [
    "from reportlab.lib.pagesizes import letter\n",
    "from reportlab.platypus import SimpleDocTemplate, Paragraph, Spacer, ListFlowable, ListItem, PageBreak\n",
    "from reportlab.lib.styles import getSampleStyleSheet, ParagraphStyle\n",
    "from reportlab.lib.enums import TA_CENTER\n",
    "\n",
    "# Configuration\n",
    "LINK_COLOR = 'darkblue'  # Can be changed to any CSS color name or hex code like '#0066CC'\n",
    "\n",
    "\n",
    "# Create document\n",
    "doc = SimpleDocTemplate(pdf_path, pagesize=letter, rightMargin=50, leftMargin=50, topMargin=50, bottomMargin=50)\n",
    "styles = getSampleStyleSheet()\n",
    "styles.add(ParagraphStyle(name='CenterTitle', fontSize=16, leading=20, alignment=TA_CENTER, spaceAfter=20, spaceBefore=10, bold=True))\n",
    "styles.add(ParagraphStyle(name='Header', fontSize=12, leading=14, spaceBefore=12, spaceAfter=6, textColor=\"#003366\", bold=True))\n",
    "styles.add(ParagraphStyle(name='SubHeader', fontSize=11, leading=13, spaceBefore=8, spaceAfter=4, bold=True))\n",
    "styles.add(ParagraphStyle(name='Body', fontSize=10, leading=12))\n",
    "\n",
    "story = []\n",
    "\n",
    "# Header\n",
    "story.append(Paragraph(\"<b>Thor Whalen</b>\", styles['CenterTitle']))\n",
    "story.append(Paragraph(f\"📧 <a href='mailto:thorwhalen@gmail.com' color='{LINK_COLOR}'>thorwhalen@gmail.com</a> | 📞 +1-929-422-1134\", styles['Body']))\n",
    "story.append(Paragraph(f\"🔗 LinkedIn: <a href='https://www.linkedin.com/in/thorwhalen' color='{LINK_COLOR}'>thorwhalen</a> | 🔗 GitHub: <a href='https://github.com/thorwhalen' color='{LINK_COLOR}'>thorwhalen</a>\", styles['Body']))\n",
    "story.append(Spacer(1, 12))\n",
    "\n",
    "# Profile\n",
    "story.append(Paragraph(\"PROFILE\", styles['Header']))\n",
    "profile_text = f\"\"\"Seasoned <b>AI & Data Leader</b> with 20+ years' experience turning raw data into <b>automation, insight, and action</b>. \n",
    "Co-founder of <a href='https://www.crunchbase.com/organization/otosense' color='{LINK_COLOR}'>OtoSense</a> (acquired by Analog Devices) and former <b>Director of Machine Learning</b> at ADI. \n",
    "Expert in Python (150+ <a href='https://pypi.org/user/thorwhalen1/' color='{LINK_COLOR}'>open-source packages</a>) with a track record of building scalable <b>data infrastructure</b>, \n",
    "<b>AI agents</b>, and operational analytics.\"\"\"\n",
    "story.append(Paragraph(profile_text, styles['Body']))\n",
    "story.append(Spacer(1, 12))\n",
    "\n",
    "# Experience\n",
    "story.append(Paragraph(\"EXPERIENCE\", styles['Header']))\n",
    "\n",
    "experiences = [\n",
    "    (\"Figiri – Co-founder\", \"2023–Present\", [\n",
    "        f\"Building <a href='https://cosmograph.app/' color='{LINK_COLOR}'>data visualization tools</a> for graph and embedding data, enabling exploration of LLM semantic spaces.\",\n",
    "        \"Designed systems to support real-time analytics and agent-driven workflows.\"\n",
    "    ]),\n",
    "    (\"Addix Group – AI Integration Consultant\", \"2023\", [\n",
    "        \"Built AI agent prototypes (resume-matching, no-code AI apps, contextual assistance tools using RAG).\",\n",
    "        \"Guided organizations on integrating LLMs/GenAI into workflows, increasing automation and decision speed.\"\n",
    "    ]),\n",
    "    (\"Analog Devices – Director of Machine Learning\", \"2018–2023\", [\n",
    "        \"Led ML/data science team after acquisition of OtoSense.\",\n",
    "        \"Built open-source frameworks for rapid ML prototyping and data pipeline acceleration.\",\n",
    "        \"Partnered with C-level leadership on company-wide AI/data platform strategy.\"\n",
    "    ]),\n",
    "    (\"OtoSense – Co-founder & CTO\", \"2016–2018\", [\n",
    "        \"Founded AI startup building sound/vibration recognition systems for IoT and industrial monitoring.\",\n",
    "        \"Developed core ML models; scaled engineering/data teams.\",\n",
    "        \"Sold company within 5 years of inception.\"\n",
    "    ]),\n",
    "    (\"TagCommander (Commanders Act) – Lead Data Scientist\", \"2014–2016\", [\n",
    "        \"Built attribution models, funnel analytics, and real-time KPIs for high-volume marketing environments.\",\n",
    "        \"Delivered automated pipelines for campaign optimization.\"\n",
    "    ]),\n",
    "    (\"Expedia – Senior Data Scientist\", \"2011–2014\", [\n",
    "        \"Designed semantic analysis/NLP solutions for large-scale travel data.\",\n",
    "        \"Optimized SEM bidding and ad targeting systems, driving revenue impact.\"\n",
    "    ]),\n",
    "    (\"Independent Consultant – Methodic Solutions\", \"2000–2011\", [\n",
    "        \"Delivered data science & ML solutions across industries (media, e-commerce, healthcare, logistics).\",\n",
    "        \"Specialized in formalizing C-level goals, developing models, and integrating solutions into production.\"\n",
    "    ])\n",
    "]\n",
    "\n",
    "for title, dates, bullets in experiences:\n",
    "    story.append(Paragraph(f\"<b>{title}</b> | <i>{dates}</i>\", styles['SubHeader']))\n",
    "    items = [ListItem(Paragraph(b, styles['Body']), leftIndent=12) for b in bullets]\n",
    "    story.append(ListFlowable(items, bulletType='bullet', start='•', leftIndent=18))\n",
    "    story.append(Spacer(1, 6))\n",
    "\n",
    "story.append(PageBreak())\n",
    "\n",
    "# Key Projects\n",
    "story.append(Paragraph(\"KEY PROJECTS & TOOLS\", styles['Header']))\n",
    "projects = [\n",
    "    f\"Data Infrastructure: <a href='https://pypi.org/project/dol/' color='{LINK_COLOR}'>dol</a>, <a href='https://pypi.org/project/sqldol/' color='{LINK_COLOR}'>sqldol</a>, <a href='https://pypi.org/project/mongodol/' color='{LINK_COLOR}'>mongodol</a>, <a href='https://pypi.org/project/chromadol/' color='{LINK_COLOR}'>chromadol</a>.\",\n",
    "    f\"AI Agents: <a href='https://pypi.org/project/meshed/' color='{LINK_COLOR}'>meshed</a>, <a href='https://pypi.org/project/oa/' color='{LINK_COLOR}'>oa</a>, <a href='https://pypi.org/project/aix/' color='{LINK_COLOR}'>aix</a>.\",\n",
    "    f\"Visualization: <a href='https://pypi.org/project/cosmograph/' color='{LINK_COLOR}'>cosmograph</a>.\",\n",
    "    \"Analytics: Real-time KPIs, dashboards, and decision-support systems.\"\n",
    "]\n",
    "items = [ListItem(Paragraph(p, styles['Body']), leftIndent=12) for p in projects]\n",
    "story.append(ListFlowable(items, bulletType='bullet', start='•', leftIndent=18))\n",
    "story.append(Spacer(1, 12))\n",
    "\n",
    "# Education\n",
    "story.append(Paragraph(\"EDUCATION\", styles['Header']))\n",
    "edu_text = \"\"\"Ph.D. Mathematics – Emory University<br/>\n",
    "M.S. Computer Science – Emory University<br/>\n",
    "Licence & DEUG Math/Physics – Université de Nice Sophia Antipolis<br/>\n",
    "Graduate Studies – Technische Universität Berlin\"\"\"\n",
    "story.append(Paragraph(edu_text, styles['Body']))\n",
    "story.append(Spacer(1, 12))\n",
    "\n",
    "# Additional\n",
    "story.append(Paragraph(\"ADDITIONAL\", styles['Header']))\n",
    "additional = f\"\"\"Patents: 6 issued, including AI sound recognition & data management systems.<br/>\n",
    "Publications: 25+ peer-reviewed papers in graph theory, applied statistics, and data science.<br/>\n",
    "Languages: English/French (bilingual); Italian/German (functional).<br/>\n",
    "Recognition: Palo Alto's Top 12 CTOs in Machine Learning.<br/>\n",
    "Open-Source: 150+ <a href='https://pypi.org/user/thorwhalen1/' color='{LINK_COLOR}'>Python packages</a>.\"\"\"\n",
    "story.append(Paragraph(additional, styles['Body']))\n",
    "\n",
    "# Build PDF\n",
    "doc.build(story)\n",
    "\n",
    "pdf_path"
   ]
  },
  {
   "cell_type": "code",
   "execution_count": null,
   "id": "1dfb8ca5",
   "metadata": {},
   "outputs": [],
   "source": []
  }
 ],
 "metadata": {
  "kernelspec": {
   "display_name": "p10",
   "language": "python",
   "name": "python3"
  },
  "language_info": {
   "codemirror_mode": {
    "name": "ipython",
    "version": 3
   },
   "file_extension": ".py",
   "mimetype": "text/x-python",
   "name": "python",
   "nbconvert_exporter": "python",
   "pygments_lexer": "ipython3",
   "version": "3.10.13"
  }
 },
 "nbformat": 4,
 "nbformat_minor": 5
}
